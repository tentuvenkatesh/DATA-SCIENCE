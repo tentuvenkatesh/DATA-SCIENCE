{
 "cells": [
  {
   "cell_type": "markdown",
   "id": "ef24bb1b",
   "metadata": {},
   "source": [
    "# QUESTION-1"
   ]
  },
  {
   "cell_type": "markdown",
   "id": "597edb79",
   "metadata": {},
   "source": [
    "Write a program to print numbers divisible by both 7 and 8. Numbers between 1 and 1000.\n",
    "\n",
    "a. Using continue statement\n",
    "\n",
    "b. Using the pass statement"
   ]
  },
  {
   "cell_type": "code",
   "execution_count": 4,
   "id": "27228e92",
   "metadata": {},
   "outputs": [
    {
     "name": "stdout",
     "output_type": "stream",
     "text": [
      "56\n",
      "112\n",
      "168\n",
      "224\n",
      "280\n",
      "336\n",
      "392\n",
      "448\n",
      "504\n",
      "560\n",
      "616\n",
      "672\n",
      "728\n",
      "784\n",
      "840\n",
      "896\n",
      "952\n"
     ]
    }
   ],
   "source": [
    " #a.Using continue statement\n",
    "for i in range(1,1000):\n",
    "    if ((i%7) == 0 and (i%8) == 0):\n",
    "        print(i)\n",
    "    else:\n",
    "        continue"
   ]
  },
  {
   "cell_type": "code",
   "execution_count": 5,
   "id": "1619547f",
   "metadata": {},
   "outputs": [
    {
     "name": "stdout",
     "output_type": "stream",
     "text": [
      "56\n",
      "112\n",
      "168\n",
      "224\n",
      "280\n",
      "336\n",
      "392\n",
      "448\n",
      "504\n",
      "560\n",
      "616\n",
      "672\n",
      "728\n",
      "784\n",
      "840\n",
      "896\n",
      "952\n"
     ]
    }
   ],
   "source": [
    "#b.using the pass statement\n",
    "for i in range(1,1000):\n",
    "    if ((i%7) == 0 and (i%8) == 0):\n",
    "        print(i)\n",
    "    else:\n",
    "        pass"
   ]
  },
  {
   "cell_type": "markdown",
   "id": "4b662063",
   "metadata": {},
   "source": [
    "# QUESTION-2"
   ]
  },
  {
   "cell_type": "markdown",
   "id": "e62d39ec",
   "metadata": {},
   "source": [
    "Number 34567222541147 has been given. Print the addition of all even digits and the addition of all odd digits."
   ]
  },
  {
   "cell_type": "code",
   "execution_count": 49,
   "id": "57f40031",
   "metadata": {},
   "outputs": [
    {
     "name": "stdout",
     "output_type": "stream",
     "text": [
      "Sum of even digits in the given number is 24\n",
      "Sum of odd digits in the given number is 29\n"
     ]
    }
   ],
   "source": [
    "num = 34567222541147\n",
    "even_sum = 0\n",
    "odd_sum = 0\n",
    "\n",
    "number_str = str(number)\n",
    "\n",
    "for digit_str in number_str:\n",
    "    i = int(digit_str)\n",
    "    if i % 2 == 0:\n",
    "        even_sum += i\n",
    "    else:\n",
    "        odd_sum += i\n",
    "\n",
    "print(\"Sum of even digits in the given number is\", even_sum)\n",
    "print(\"Sum of odd digits in the given number is\", odd_sum)\n"
   ]
  },
  {
   "cell_type": "markdown",
   "id": "027379c8",
   "metadata": {},
   "source": [
    "# QUESTION-3"
   ]
  },
  {
   "cell_type": "markdown",
   "id": "3eb79fa6",
   "metadata": {},
   "source": [
    "Describe conditional expression. Write a program to print the maximum and minimum numbers from a list using conditional expression. Use the max () and min () functions to verify your output."
   ]
  },
  {
   "cell_type": "code",
   "execution_count": 2,
   "id": "c8c6e5ea",
   "metadata": {},
   "outputs": [
    {
     "name": "stdout",
     "output_type": "stream",
     "text": [
      "List of numbers: [5, 7, 9, 13, 25, 100, 1]\n",
      "Maximum number: 100\n",
      "Minimum number: 1\n",
      "Verified Maximum number: 100\n",
      "Verified Minimum number: 1\n"
     ]
    }
   ],
   "source": [
    "numbers = [5,7,9,13,25,100,1]\n",
    "\n",
    "max_num = max(numbers) if numbers else None\n",
    "min_num = min(numbers) if numbers else None\n",
    "\n",
    "print(\"List of numbers:\", numbers)\n",
    "print(\"Maximum number:\", max_num)\n",
    "print(\"Minimum number:\", min_num)\n",
    "\n",
    "print(\"Verified Maximum number:\", max(numbers))\n",
    "print(\"Verified Minimum number:\", min(numbers))"
   ]
  },
  {
   "cell_type": "markdown",
   "id": "c3c9faa6",
   "metadata": {},
   "source": [
    "# QUESTION-4"
   ]
  },
  {
   "cell_type": "markdown",
   "id": "c0404086",
   "metadata": {},
   "source": [
    "Print the following pattern(i.e Pascal’s  Triangle) for the given N number of rows."
   ]
  },
  {
   "cell_type": "code",
   "execution_count": 54,
   "id": "dcdd2f93",
   "metadata": {},
   "outputs": [
    {
     "name": "stdout",
     "output_type": "stream",
     "text": [
      "enter n value:8\n",
      "         1 \n",
      "        1 1 \n",
      "       1 2 1 \n",
      "      1 3 3 1 \n",
      "     1 4 6 4 1 \n",
      "    1 5 10 10 5 1 \n",
      "   1 6 15 20 15 6 1 \n",
      "  1 7 21 35 35 21 7 1 \n"
     ]
    }
   ],
   "source": [
    "\n",
    "from math import factorial\n",
    "\n",
    "\n",
    "n = int(input('enter n value:'))\n",
    "for i in range(n):\n",
    "    for j in range(n-i+1):\n",
    "\n",
    "    \n",
    "        print(end=\" \")\n",
    "\n",
    "    for j in range(i+1):\n",
    "\n",
    "        # nCr = n!/((n-r)!*r!)\n",
    "        print(factorial(i)//(factorial(j)*factorial(i-j)), end=\" \")\n",
    "\n",
    "    \n",
    "    print()\n"
   ]
  },
  {
   "cell_type": "markdown",
   "id": "9668b09c",
   "metadata": {},
   "source": [
    "# QUESTION-5"
   ]
  },
  {
   "cell_type": "markdown",
   "id": "8afbfe65",
   "metadata": {},
   "source": [
    "A palindrome sentence is a phrase or sentence that reads the same forward as it does backward, ignoring spaces, punctuation, and capitalization.\n",
    "\n",
    "\n",
    "A) Take a number as input, determine if it is a palindrome, considering only integers. Eg: 2442\n",
    "\n",
    "\n",
    "B) Now, take a string as an input and check whether it is Palindrome or not.  eg: \"Was it a car or a cat I saw?\"\n",
    "\n",
    "The expected output for this example will print, 'True'"
   ]
  },
  {
   "cell_type": "code",
   "execution_count": 10,
   "id": "13f21b04",
   "metadata": {},
   "outputs": [
    {
     "name": "stdout",
     "output_type": "stream",
     "text": [
      "enetr the number:121\n",
      "121\n",
      "given number is palandrom\n"
     ]
    }
   ],
   "source": [
    "#a.Take a number as input, determine if it is a palindrome, considering only integers. Eg: 2442\n",
    "num = input('enetr the number:')\n",
    "print(num)\n",
    "if num == num[::-1]:\n",
    "    print('given number is palandrom')\n",
    "else:\n",
    "    print('Given number is not palandrom')"
   ]
  },
  {
   "cell_type": "code",
   "execution_count": 7,
   "id": "43b2bdd1",
   "metadata": {},
   "outputs": [
    {
     "name": "stdout",
     "output_type": "stream",
     "text": [
      "True\n"
     ]
    }
   ],
   "source": [
    "#b.Now, take a string as an input and check whether it is Palindrome or not. eg: \"Was it a car or a cat I saw?\"\n",
    "def palindrome(s):\n",
    "    s = ''.join(c.lower() for c in s if c.isalnum())\n",
    "    return s == s[::-1]\n",
    "\n",
    "string = \"was it a car or a cat i saw\" \n",
    "print(palindrome(string))"
   ]
  },
  {
   "cell_type": "markdown",
   "id": "a93a02c6",
   "metadata": {},
   "source": [
    "# QUESTION-6"
   ]
  },
  {
   "cell_type": "markdown",
   "id": "6107ab18",
   "metadata": {},
   "source": [
    " Describe chr () and ord () functions. Write a small program to show its functionality.Using these functions,write a program to print:"
   ]
  },
  {
   "cell_type": "code",
   "execution_count": 16,
   "id": "11d6c0c1",
   "metadata": {},
   "outputs": [
    {
     "name": "stdout",
     "output_type": "stream",
     "text": [
      "enter N value: 4\n",
      "A \n",
      "B B \n",
      "C C C \n",
      "D D D D \n"
     ]
    }
   ],
   "source": [
    "# Set the value of N (number of rows)\n",
    "N = int(input('enter N value: '))\n",
    "for i in range(N):\n",
    "    # Use ord('A') to get the ASCII value of 'A' and add the current row number\n",
    "    new_char = chr(ord('A') + i)\n",
    "    \n",
    "    # Print the character repeated i+1 times to create the pattern\n",
    "    print((new_char + ' ') * (i + 1))"
   ]
  },
  {
   "cell_type": "markdown",
   "id": "d8db61be",
   "metadata": {},
   "source": [
    "# QUESTION-7"
   ]
  },
  {
   "cell_type": "markdown",
   "id": "1a456872",
   "metadata": {},
   "source": [
    "You have a single list of names (each name should have first name and last name). Write a programme\n",
    "\n",
    "(a) to print the first names.\n",
    "\n",
    "(b) to print the last names.\n",
    "\n",
    "(c) to print each name as 'last_name first_name.\n",
    "\n",
    "(d) to print the names in the sorted order with respect to last name"
   ]
  },
  {
   "cell_type": "code",
   "execution_count": 9,
   "id": "81912b46",
   "metadata": {},
   "outputs": [
    {
     "name": "stdout",
     "output_type": "stream",
     "text": [
      "First names:\n",
      "venky\n",
      "sai\n",
      "\n",
      "Last names:\n",
      "tentu\n",
      "tentu\n",
      "\n",
      "Full names:\n",
      "tentu venky\n",
      "tentu sai\n",
      "\n",
      "Sorted names:\n",
      "tentu venky\n",
      "tentu sai\n"
     ]
    }
   ],
   "source": [
    "names_list = [(\"venky\", \"tentu\"), (\"sai\", \"tentu\")]\n",
    "\n",
    "#first names\n",
    "print(\"First names:\")\n",
    "for first_name,  _ in names_list:\n",
    "    print(first_name)\n",
    "\n",
    "#last names\n",
    "print(\"\\nLast names:\")\n",
    "for _, last_name in names_list:\n",
    "    print(last_name)\n",
    "\n",
    "# (c)last_name first_name\n",
    "print(\"\\nFull names:\")\n",
    "for first_name, last_name in names_list:\n",
    "    print(f\"{last_name} {first_name}\")\n",
    "\n",
    "# (d)names in sorted order with respect to last name\n",
    "sorted_names = sorted(names_list, key=lambda x: x[1])  \n",
    "print(\"\\nSorted names:\")\n",
    "for first_name, last_name in sorted_names:\n",
    "    print(f\"{last_name} {first_name}\")"
   ]
  },
  {
   "cell_type": "markdown",
   "id": "0550b1fd",
   "metadata": {},
   "source": [
    "# QUESTION-8"
   ]
  },
  {
   "cell_type": "markdown",
   "id": "a8aaa475",
   "metadata": {},
   "source": [
    "WAP to find the minimum of 3 numbers using\n",
    "\n",
    " a) with conditional expressions. (No loops should be used)\n",
    "\n",
    " b) with nested conditional expression. (No loops should be used)\n",
    "\n",
    " c) similar to problem (b), find the minimum of 4 numbers."
   ]
  },
  {
   "cell_type": "code",
   "execution_count": 29,
   "id": "eeba4ed4",
   "metadata": {},
   "outputs": [
    {
     "name": "stdout",
     "output_type": "stream",
     "text": [
      "enter value of a :1\n",
      "enter value of b :2\n",
      "enter value of c :3\n",
      "a =  1.0  \n",
      "b=  2.0 \n",
      "c=  3.0\n",
      "minimum of the given 3 numbers is : 1.0\n"
     ]
    }
   ],
   "source": [
    "#with conditional expressions.\n",
    "a = float(input('enter value of a :'))\n",
    "b = float(input('enter value of b :'))\n",
    "c = float(input('enter value of c :'))\n",
    "print('a = ',a,' \\nb= ',b,'\\nc= ',c)\n",
    "minimum = a if (a < b and a < c) else (b if (b < c) else c)\n",
    "print('minimum of the given 3 numbers is :',minimum)"
   ]
  },
  {
   "cell_type": "code",
   "execution_count": 30,
   "id": "663fc257",
   "metadata": {},
   "outputs": [
    {
     "name": "stdout",
     "output_type": "stream",
     "text": [
      "enter value of a :1\n",
      "enter value of b :2\n",
      "enter value of c :3\n",
      "a =  1.0  \n",
      "b=  2.0 \n",
      "c=  3.0\n",
      "minimum of the given 3 numbers is : 1.0\n"
     ]
    }
   ],
   "source": [
    "#with nested conditional expression.\n",
    "a = float(input('enter value of a :'))\n",
    "b = float(input('enter value of b :'))\n",
    "c = float(input('enter value of c :'))\n",
    "print('a = ',a,' \\nb= ',b,'\\nc= ',c)\n",
    "minimum = a if a < b else (b if (b < c) else c)\n",
    "print('minimum of the given 3 numbers is :',minimum)"
   ]
  },
  {
   "cell_type": "code",
   "execution_count": 31,
   "id": "17f0e6bd",
   "metadata": {},
   "outputs": [
    {
     "name": "stdout",
     "output_type": "stream",
     "text": [
      "Enter the value of a: 1\n",
      "Enter the value of b: 2\n",
      "Enter the value of c: 3\n",
      "Enter the value of d: 4\n",
      "Minimum of the four numbers: 1.0\n"
     ]
    }
   ],
   "source": [
    "#similar to problem (b), find the minimum of 4 numbers.\n",
    "# Taking input from the user\n",
    "a = float(input(\"Enter the value of a: \"))\n",
    "b = float(input(\"Enter the value of b: \"))\n",
    "c = float(input(\"Enter the value of c: \"))\n",
    "d = float(input(\"Enter the value of d: \"))\n",
    "\n",
    "# Using nested conditional expressions to find the minimum of 4 numbers\n",
    "minimum = a if a < b else (b if b < c else (c if c < d else d))\n",
    "\n",
    "# Printing the result\n",
    "print(\"Minimum of the four numbers:\", minimum)\n"
   ]
  },
  {
   "cell_type": "markdown",
   "id": "090a235a",
   "metadata": {},
   "source": [
    "# QUESTION-9"
   ]
  },
  {
   "cell_type": "markdown",
   "id": "cff9c3ed",
   "metadata": {},
   "source": [
    "Create a list of departments in IIT Madras (Minimum 5 ) and perform the following operations:\n",
    "\n",
    "append\n",
    "\n",
    "remove\n",
    "\n",
    "pop\n",
    "\n",
    "insert \n",
    "\n",
    "reverse\n",
    "\n",
    "sort\n",
    "\n",
    "count\n",
    "\n",
    "index\n",
    "\n",
    "extend\n",
    "\n",
    "slice\n",
    "\n",
    "clear"
   ]
  },
  {
   "cell_type": "code",
   "execution_count": 7,
   "id": "694855e8",
   "metadata": {},
   "outputs": [
    {
     "name": "stdout",
     "output_type": "stream",
     "text": [
      "Original List of Departments: ['Mathematics', 'Computer science', 'Electrical Engineering', 'Mechanical Engineering', 'Civil Engineering']\n",
      "\n",
      "After appending a department: ['Mathematics', 'Computer science', 'Electrical Engineering', 'Mechanical Engineering', 'Civil Engineering', 'Aerospace Engineering']\n",
      "\n",
      "After removing a department: ['Mathematics', 'Computer science', 'Electrical Engineering', 'Mechanical Engineering', 'Aerospace Engineering']\n",
      "\n",
      "Removed department using pop: Aerospace Engineering\n",
      "List after pop operation: ['Mathematics', 'Computer science', 'Electrical Engineering', 'Mechanical Engineering']\n",
      "\n",
      "After inserting a department at index 2: ['Mathematics', 'Computer science', 'Chemical Engineering', 'Electrical Engineering', 'Mechanical Engineering']\n",
      "\n",
      "After reversing the list: ['Mechanical Engineering', 'Electrical Engineering', 'Chemical Engineering', 'Computer science', 'Mathematics']\n",
      "\n",
      "After sorting the list: ['Chemical Engineering', 'Computer science', 'Electrical Engineering', 'Mathematics', 'Mechanical Engineering']\n",
      "\n",
      "Count of Mechanical Engineering: 1\n",
      "\n",
      "Index of Electrical Engineering: 2\n",
      "\n",
      "After extending the list: ['Chemical Engineering', 'Computer science', 'Electrical Engineering', 'Mathematics', 'Mechanical Engineering', 'Mathematics', 'Physics', 'Chemistry']\n",
      "\n",
      "Sliced list from index 2 to 5: ['Electrical Engineering', 'Mathematics', 'Mechanical Engineering', 'Mathematics']\n",
      "\n",
      "After clearing the list: []\n"
     ]
    }
   ],
   "source": [
    "iitm_departments = [\"Mathematics\",\"Computer science\", \"Electrical Engineering\", \"Mechanical Engineering\", \"Civil Engineering\"]\n",
    "\n",
    "print(\"Original List of Departments:\", iitm_departments)\n",
    "\n",
    "iitm_departments.append(\"Aerospace Engineering\")\n",
    "print(\"\\nAfter appending a department:\", iitm_departments)\n",
    "\n",
    "\n",
    "iitm_departments.remove(\"Civil Engineering\")\n",
    "print(\"\\nAfter removing a department:\", iitm_departments)\n",
    "\n",
    "\n",
    "popped_department = iitm_departments.pop()\n",
    "print(\"\\nRemoved department using pop:\", popped_department)\n",
    "print(\"List after pop operation:\", iitm_departments)\n",
    "\n",
    "\n",
    "iitm_departments.insert(2, \"Chemical Engineering\")\n",
    "print(\"\\nAfter inserting a department at index 2:\", iitm_departments)\n",
    "\n",
    "\n",
    "iitm_departments.reverse()\n",
    "print(\"\\nAfter reversing the list:\", iitm_departments)\n",
    "\n",
    "\n",
    "iitm_departments.sort()\n",
    "print(\"\\nAfter sorting the list:\", iitm_departments)\n",
    "\n",
    "\n",
    "count_mechanical = iitm_departments.count(\"Mechanical Engineering\")\n",
    "print(\"\\nCount of Mechanical Engineering:\", count_mechanical)\n",
    "\n",
    "\n",
    "index_electrical = iitm_departments.index(\"Electrical Engineering\")\n",
    "print(\"\\nIndex of Electrical Engineering:\", index_electrical)\n",
    "\n",
    "\n",
    "additional_departments = [\"Mathematics\", \"Physics\", \"Chemistry\"]\n",
    "iitm_departments.extend(additional_departments)\n",
    "print(\"\\nAfter extending the list:\", iitm_departments)\n",
    "\n",
    "\n",
    "sliced_departments = iitm_departments[2:6]\n",
    "print(\"\\nSliced list from index 2 to 5:\", sliced_departments)\n",
    "\n",
    "\n",
    "iitm_departments.clear()\n",
    "print(\"\\nAfter clearing the list:\", iitm_departments)"
   ]
  },
  {
   "cell_type": "markdown",
   "id": "70afd7f2",
   "metadata": {},
   "source": [
    "# QUESTION-10"
   ]
  },
  {
   "cell_type": "markdown",
   "id": "b4e68f5a",
   "metadata": {},
   "source": [
    "Differentiate deep copy and shallow copy."
   ]
  },
  {
   "cell_type": "markdown",
   "id": "d64398dc",
   "metadata": {},
   "source": [
    "i wrote the solution in paper and submitted"
   ]
  },
  {
   "cell_type": "code",
   "execution_count": null,
   "id": "65cd4d0d",
   "metadata": {},
   "outputs": [],
   "source": []
  }
 ],
 "metadata": {
  "kernelspec": {
   "display_name": "Python 3 (ipykernel)",
   "language": "python",
   "name": "python3"
  },
  "language_info": {
   "codemirror_mode": {
    "name": "ipython",
    "version": 3
   },
   "file_extension": ".py",
   "mimetype": "text/x-python",
   "name": "python",
   "nbconvert_exporter": "python",
   "pygments_lexer": "ipython3",
   "version": "3.11.5"
  }
 },
 "nbformat": 4,
 "nbformat_minor": 5
}
