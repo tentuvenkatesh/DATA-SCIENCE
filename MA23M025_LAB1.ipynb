{
 "cells": [
  {
   "cell_type": "markdown",
   "id": "f0afcf38",
   "metadata": {},
   "source": [
    "# QUESTION-1"
   ]
  },
  {
   "cell_type": "markdown",
   "id": "ac5a9ba4",
   "metadata": {},
   "source": [
    "1.WAP(Write a program) to find (print) the value of the following:\n",
    "\n",
    "a)7*ln(3)*[ln(5)+ln(e^3)]\n",
    "\n",
    "b)Difference in area between two concentric circles of diameter 5m and 3m"
   ]
  },
  {
   "cell_type": "code",
   "execution_count": 1,
   "id": "52aab236",
   "metadata": {},
   "outputs": [
    {
     "name": "stdout",
     "output_type": "stream",
     "text": [
      "7*ln(3)*[ln(5)+ln(e^3)] =  35.44789594116947\n"
     ]
    }
   ],
   "source": [
    "import math\n",
    "calculation = 7 * math.log(3) * (math.log(5) + math.log(math.exp(3)))\n",
    "print('7*ln(3)*[ln(5)+ln(e^3)] = ',calculation)"
   ]
  },
  {
   "cell_type": "code",
   "execution_count": 15,
   "id": "1c8652e3",
   "metadata": {},
   "outputs": [
    {
     "name": "stdout",
     "output_type": "stream",
     "text": [
      "2.5 1.5\n",
      "12.566370614359172\n"
     ]
    }
   ],
   "source": [
    "d1 = 5\n",
    "d2 = 3\n",
    "\n",
    "r1 = d1/2\n",
    "r2 = d2/2\n",
    "\n",
    "print(r1,r2)\n",
    "\n",
    "area_difference = math.pi * (pow(r1,2)-pow(r2,2))\n",
    "print(area_difference)"
   ]
  },
  {
   "cell_type": "markdown",
   "id": "faa1d54e",
   "metadata": {},
   "source": [
    "# QUESTION-2"
   ]
  },
  {
   "cell_type": "markdown",
   "id": "e46fd20a",
   "metadata": {},
   "source": [
    "2.WAP to return the count of odd numbers and even numbers between 7 and 80 (both inclusive) using arithmetic operators \n",
    "(without  using loops) and print it using ‘format strings’ in a single line. (Refer to the attached file L3_output.py for examples of using formatted strings)"
   ]
  },
  {
   "cell_type": "code",
   "execution_count": 17,
   "id": "7ff1f2f0",
   "metadata": {},
   "outputs": [
    {
     "name": "stdout",
     "output_type": "stream",
     "text": [
      "Count of odd numbers between 7 and 80 (inclusive): 37 \n",
      "Count of even numbers between 7 and 80 (inclusive): 37\n"
     ]
    }
   ],
   "source": [
    "start_range = 7\n",
    "end_range = 80 \n",
    "\n",
    "def count_odd_even_numbers(start, end):\n",
    "   \n",
    "    count_odd = (end // 2) - ((start - 1) // 2)\n",
    "    count_even = (end + 1) // 2 - (start // 2)\n",
    "\n",
    "    return count_odd, count_even\n",
    "\n",
    "odd_count, even_count = count_odd_even_numbers(start_range, end_range)\n",
    "\n",
    "print(\"number of odd numbers between {} and {} (inclusive): {}\".format(start_range, end_range, odd_count),'\\n'\n",
    "      \"number of even numbers between {} and {} (inclusive): {}\".format(start_range, end_range, even_count))\n"
   ]
  },
  {
   "cell_type": "markdown",
   "id": "ba4e6909",
   "metadata": {},
   "source": [
    "# QUESTION-3"
   ]
  },
  {
   "cell_type": "markdown",
   "id": "b17b8cdd",
   "metadata": {},
   "source": [
    "3.What are the different kinds of data types in python? Name them and explain their significance.WAP to demonstrate them in Python and print the size and type of each of them in ascending order."
   ]
  },
  {
   "cell_type": "markdown",
   "id": "db4bf01c",
   "metadata": {},
   "source": [
    "int,float,boolean,string,complex,etc are the data types in python.\n",
    "INT:    It is used for the  Natural numbers(i.e 1,2,3,...)\n",
    "Boolean:Output is either true or false\n",
    "Float:  This data type is used for the decimal numbers(i.e 1.0,3.14159,etc)\n",
    "Strings:This data type is used to give the names or variables(i.e venky_1,etc)\n",
    "Complex:This data type represents complex numbers"
   ]
  },
  {
   "cell_type": "code",
   "execution_count": 6,
   "id": "46404c8d",
   "metadata": {},
   "outputs": [
    {
     "name": "stdout",
     "output_type": "stream",
     "text": [
      "3.14 <class 'float'> 24\n",
      "5 <class 'int'> 28\n",
      "True <class 'bool'> 28\n",
      "(3+4j) <class 'complex'> 32\n",
      "b'\\x02\\x03\\x04' <class 'bytes'> 36\n",
      "venky <class 'str'> 54\n"
     ]
    }
   ],
   "source": [
    "import sys\n",
    "a=3.14\n",
    "b=5\n",
    "c = True\n",
    "d= 3+4j\n",
    "e= bytes([ 2 , 3 , 4])\n",
    "f=\"venky\"\n",
    "print(a , type(a) , sys.getsizeof(a))\n",
    "print(b , type(b) , sys.getsizeof(b))\n",
    "print(c , type(c) , sys.getsizeof(c))\n",
    "print(d , type(d) , sys.getsizeof(d))\n",
    "print(e , type(e) , sys.getsizeof(e))\n",
    "print(f , type(f) , sys.getsizeof(f))"
   ]
  },
  {
   "cell_type": "markdown",
   "id": "2acba35b",
   "metadata": {},
   "source": [
    "# QUESTION-4"
   ]
  },
  {
   "cell_type": "markdown",
   "id": "cf481d57",
   "metadata": {},
   "source": [
    "4.WAP to find the surface area of a cuboid with sides a,b,c. The values of a, b, c  should be random numbers generated between 10 and 100. Take the seed value as user input. (use ‘random’ module)."
   ]
  },
  {
   "cell_type": "code",
   "execution_count": 50,
   "id": "920b981e",
   "metadata": {},
   "outputs": [
    {
     "name": "stdout",
     "output_type": "stream",
     "text": [
      "Enter a seed value for random number generation: 90\n",
      "Sides of the cuboid: a=36, b=21, c=71\n",
      "Surface area of the cuboid: 9606\n"
     ]
    }
   ],
   "source": [
    "import random\n",
    "\n",
    "def surface_area_of_cuboid(a, b, c):\n",
    "    area = 2 * (a*b + b*c + c*a)\n",
    "    return area\n",
    "\n",
    "seed_value = int(input(\"Enter a seed value for random number generation: \"))\n",
    "random.seed(seed_value)\n",
    "\n",
    "\n",
    "a = random.randint(10, 100)\n",
    "b = random.randint(10, 100)\n",
    "c = random.randint(10, 100)\n",
    "\n",
    "surface_area = surface_area_of_cuboid(a, b, c)\n",
    "\n",
    "print(f\"Sides of the cuboid: a={a}, b={b}, c={c}\")\n",
    "print(f\"Surface area of the cuboid: {surface_area}\")\n"
   ]
  },
  {
   "cell_type": "markdown",
   "id": "113c1637",
   "metadata": {},
   "source": [
    "# QUESTION-5"
   ]
  },
  {
   "cell_type": "markdown",
   "id": "dd22a7b3",
   "metadata": {},
   "source": [
    "5.WAP to solve the quadratic equation of the form ax^2+bx+c=0, where a, b and c are real numbers and a ≠ 0 (Take a, b and c as user input)."
   ]
  },
  {
   "cell_type": "code",
   "execution_count": 52,
   "id": "638ee378",
   "metadata": {},
   "outputs": [
    {
     "name": "stdout",
     "output_type": "stream",
     "text": [
      "Enter the value of coefficient a: 1\n",
      "Enter the value of coefficient b: 2\n",
      "Enter the value of coefficient c: 1\n",
      "The roots of the quadratic equation are: (-1+0j) and (-1+0j)\n"
     ]
    }
   ],
   "source": [
    "import cmath  \n",
    "def solve_quadratic_equation(a, b, c):\n",
    "    \n",
    "    d = cmath.sqrt(b**2 - 4*a*c)\n",
    "\n",
    "    \n",
    "    root1 = (-b + d) / (2*a)\n",
    "    root2 = (-b - d) / (2*a)\n",
    "\n",
    "    return root1, root2\n",
    "\n",
    "\n",
    "a = float(input(\"Enter the value of coefficient a: \"))\n",
    "b = float(input(\"Enter the value of coefficient b: \"))\n",
    "c = float(input(\"Enter the value of coefficient c: \"))\n",
    "\n",
    "# Check if a is not equal to 0 \n",
    "if a != 0:\n",
    "    roots = solve_quadratic_equation(a, b, c)\n",
    "    print(f\"The roots of the quadratic equation are: {roots[0]} and {roots[1]}\")\n",
    "else:\n",
    "    print(\"Error: The coefficient 'a' should be non-zero for a quadratic equation.\")\n"
   ]
  },
  {
   "cell_type": "markdown",
   "id": "b7ca0793",
   "metadata": {},
   "source": [
    "# QUESTION-6"
   ]
  },
  {
   "cell_type": "markdown",
   "id": "bdf764f4",
   "metadata": {},
   "source": [
    "6.WAP to demonstrate various arithmetic operations by taking the two input numbers in a single line as space-separated-values (Use split function)."
   ]
  },
  {
   "cell_type": "code",
   "execution_count": 59,
   "id": "f414d18e",
   "metadata": {},
   "outputs": [
    {
     "name": "stdout",
     "output_type": "stream",
     "text": [
      "enter 2 numbers seperated by space: 2 3\n",
      "numbers are  2.0 3.0\n",
      "addition :  5.0\n",
      "substraction  :  -1.0\n",
      "multiplication :  6.0\n",
      "division :  0.6666666666666666\n",
      "reminder :  0.0\n",
      "g: 8.0\n",
      "h: 2.0\n"
     ]
    }
   ],
   "source": [
    "a = input(\"enter 2 numbers seperated by space: \")\n",
    "numbers = a.split()\n",
    "num1 = float(numbers[0])\n",
    "num2 = float(numbers[1])\n",
    "b = num1+num2\n",
    "c = num1-num2\n",
    "d = num1*num2\n",
    "e = num1/num2\n",
    "f = num1//num2\n",
    "g = num1**num2\n",
    "h = num1%num2\n",
    "print('numbers are ',num1,num2)\n",
    "print('addition : ',b)\n",
    "print('substraction  : ',c)\n",
    "print('multiplication : ',d)\n",
    "print('division : ',e)\n",
    "print('reminder : ',f)\n",
    "print('g:',g)\n",
    "print('h:',h)"
   ]
  },
  {
   "cell_type": "markdown",
   "id": "9421a4d6",
   "metadata": {},
   "source": [
    "# QUESTION-7"
   ]
  },
  {
   "cell_type": "markdown",
   "id": "cd637ba5",
   "metadata": {},
   "source": [
    "7.Given the words ‘Learning’, ‘python’, ‘is’, ‘fun’. Accomplish the following tasks:\n",
    "\n",
    "a.Create a sentence by combining these words : “Learning python is fun.” use(‘.join’)\n",
    "\n",
    "b.Print the sentence “Learning datascience is fun.” (use ‘.replace’)\n",
    "\n",
    "c.Generate an uppercase version of the sentence: “LEARNING PYTHON IS FUN.”\n",
    "\n",
    "d.Rearrange the words to form a new sentence: “fun is python learning.”\n",
    "\n",
    "e.Reverse each word in the sentence and print the result: “nuf si nohtyp gninrael.”"
   ]
  },
  {
   "cell_type": "code",
   "execution_count": 58,
   "id": "818b980e",
   "metadata": {},
   "outputs": [
    {
     "name": "stdout",
     "output_type": "stream",
     "text": [
      "a. Combined sentence: \"Learning python is fun\"\n",
      "b. Modified sentence: \"Learning datascience is fun\"\n",
      "c. Uppercase sentence: \"LEARNING PYTHON IS FUN\"\n",
      "d. Rearranged sentence: \"fun is python Learning\"\n",
      "e. Reversed words: \"gninraeL nohtyp si nuf\"\n"
     ]
    }
   ],
   "source": [
    "words = ['Learning', 'python', 'is', 'fun']\n",
    "\n",
    "sentence_a = ' '.join(words)\n",
    "print(f\"a. Combined sentence: \\\"{sentence_a}\\\"\")\n",
    "\n",
    "sentence_b = sentence_a.replace('python', 'datascience')\n",
    "print(f\"b. Modified sentence: \\\"{sentence_b}\\\"\")\n",
    "\n",
    "sentence_c = sentence_a.upper()\n",
    "print(f\"c. Uppercase sentence: \\\"{sentence_c}\\\"\")\n",
    "\n",
    "sentence_d = ' '.join(reversed(words))\n",
    "print(f\"d. Rearranged sentence: \\\"{sentence_d}\\\"\")\n",
    "\n",
    "sentence_e = ' '.join(word[::-1] for word in words)\n",
    "print(f\"e. Reversed words: \\\"{sentence_e}\\\"\")"
   ]
  },
  {
   "cell_type": "markdown",
   "id": "b2265b69",
   "metadata": {},
   "source": [
    "# QUESTION-8"
   ]
  },
  {
   "cell_type": "markdown",
   "id": "1111fac3",
   "metadata": {},
   "source": [
    "8.How object oriented programming in Python is different from other object oriented languages?"
   ]
  },
  {
   "cell_type": "markdown",
   "id": "270786b4",
   "metadata": {},
   "source": [
    "Differences:\n",
    "1.Python comes with a comprehensive standard library that includes many modules and packages for various functionalities.\n",
    "Some other languages may have a different approach to providing standard libraries.\n",
    "2.In Python, everything is an object, including basic data types like integers and booleans.\n",
    "In some other languages, there might be a clearer distinction between primitive types and objects."
   ]
  },
  {
   "cell_type": "markdown",
   "id": "011fb46d",
   "metadata": {},
   "source": [
    "# QUESTION-9"
   ]
  },
  {
   "cell_type": "markdown",
   "id": "50be3e58",
   "metadata": {},
   "source": [
    "9.What are ‘built-in-functions’ in Python? Explain any five."
   ]
  },
  {
   "cell_type": "code",
   "execution_count": 9,
   "id": "696d4b33",
   "metadata": {},
   "outputs": [
    {
     "name": "stdout",
     "output_type": "stream",
     "text": [
      "2\n",
      "<class 'list'>\n",
      "2\n",
      "2\n",
      "1\n"
     ]
    }
   ],
   "source": [
    "#1.len()\n",
    "k = [1,2]\n",
    "print(len(k))\n",
    "#2.type()\n",
    "print(type(k))\n",
    "#3.pow()\n",
    "print(pow(2,1))\n",
    "#4.max()\n",
    "print(max(k))\n",
    "#5.min()\n",
    "print(min(k))"
   ]
  },
  {
   "cell_type": "markdown",
   "id": "0ae54778",
   "metadata": {},
   "source": [
    "# QUESTION-10"
   ]
  },
  {
   "cell_type": "markdown",
   "id": "8df1c58d",
   "metadata": {},
   "source": [
    "10.WAP to:\n",
    "\n",
    "1.Count the number of vowels in a given string.\n",
    "\n",
    "2.Check if a given string is palindrome."
   ]
  },
  {
   "cell_type": "code",
   "execution_count": 18,
   "id": "f542db26",
   "metadata": {},
   "outputs": [
    {
     "name": "stdout",
     "output_type": "stream",
     "text": [
      "Enter a string: Venky\n",
      "Number of vowels in the string: 1\n"
     ]
    }
   ],
   "source": [
    "def count_vowels(input_string):\n",
    "    input_string = input_string.lower()\n",
    "    \n",
    "    vowels = set(\"aeiou\")\n",
    "    \n",
    "    vowel_count = sum(1 for char in input_string if char in vowels)\n",
    "    \n",
    "    return vowel_count\n",
    "\n",
    "\n",
    "input_string = input(\"Enter a string: \")\n",
    "\n",
    "vowel_count = count_vowels(input_string)\n",
    "print(f\"Number of vowels in the string: {vowel_count}\")"
   ]
  },
  {
   "cell_type": "code",
   "execution_count": 19,
   "id": "f32aae6a",
   "metadata": {},
   "outputs": [
    {
     "name": "stdout",
     "output_type": "stream",
     "text": [
      "Enter a string: VENEV\n",
      "The given string is a palindrome.\n"
     ]
    }
   ],
   "source": [
    "def is_palindrome(input_string):\n",
    "    cleaned_string = ''.join(char.lower() for char in input_string if char.isalnum())\n",
    "    return cleaned_string == cleaned_string[::-1]\n",
    "\n",
    "input_string = input(\"Enter a string: \")\n",
    "\n",
    "if is_palindrome(input_string):\n",
    "    print(\"The given string is a palindrome.\")\n",
    "else:\n",
    "    print(\"The given string is not a palindrome.\")"
   ]
  },
  {
   "cell_type": "code",
   "execution_count": null,
   "id": "259bd51c",
   "metadata": {},
   "outputs": [],
   "source": []
  }
 ],
 "metadata": {
  "kernelspec": {
   "display_name": "Python 3 (ipykernel)",
   "language": "python",
   "name": "python3"
  },
  "language_info": {
   "codemirror_mode": {
    "name": "ipython",
    "version": 3
   },
   "file_extension": ".py",
   "mimetype": "text/x-python",
   "name": "python",
   "nbconvert_exporter": "python",
   "pygments_lexer": "ipython3",
   "version": "3.11.5"
  }
 },
 "nbformat": 4,
 "nbformat_minor": 5
}
