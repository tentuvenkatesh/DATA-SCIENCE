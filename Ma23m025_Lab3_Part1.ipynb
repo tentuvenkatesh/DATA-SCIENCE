{
 "cells": [
  {
   "cell_type": "markdown",
   "id": "1754ad69",
   "metadata": {},
   "source": [
    "# QUESTION-1"
   ]
  },
  {
   "cell_type": "markdown",
   "id": "7f88614b",
   "metadata": {},
   "source": [
    "Write a program (WAP) to implement the following operations on a collection of library books:\n",
    "\n",
    "(a) Construct a catalog of books, with each book having an author's name, book title, ISBN number, publication year, and number of pages.\n",
    "\n",
    "(b) Add a new book to the catalog, ensuring that the books are kept in ascending order based on the publication year.\n",
    "\n",
    "(c) Locate a book by its ISBN number and delete the book's entry from the catalog.\n",
    "\n",
    "(d) Insert a new book entry at the end of the catalog using the provided book information.\n",
    "\n",
    "(e) Identify and remove any duplicate entries in the catalog, preserving only one copy of each book based on its ISBN number.\n",
    "\n",
    "(f) Reorganize the entire catalog so that the books are sorted in descending order by the number of pages."
   ]
  },
  {
   "cell_type": "code",
   "execution_count": 23,
   "id": "601d55a4",
   "metadata": {},
   "outputs": [
    {
     "name": "stdout",
     "output_type": "stream",
     "text": [
      "author: Rabindranath Tagore\n",
      "title: Kabuliwala\n",
      "ISBN: 978-0-7475-3269-6\n",
      "yeqr: 1899\n",
      "pages: 120\n",
      "\n",
      "author: S.K. Mapa\n",
      "title: REal Analysis\n",
      "ISBN: 978-0-618-00221-3\n",
      "yeqr: 2000\n",
      "pages: 702\n",
      "\n"
     ]
    }
   ],
   "source": [
    "book1 = (\"Rabindranath Tagore\", \"Kabuliwala\", \"978-0-7475-3269-6\", 1899, 120)\n",
    "book2 = (\"S.K. Mapa\", \"REal Analysis\", \"978-0-618-00221-3\", 2000, 702)\n",
    "book3 = (\" I. N. Herstien\", \"Abstruct Algebra\", \"978-0-06-093546-7\", 2001, 654 )\n",
    "\n",
    "catalog= [book1, book2]\n",
    "for book in catalog:\n",
    "    print(\"author:\", book[0])\n",
    "    print(\"title:\", book[1])\n",
    "    print(\"ISBN:\", book[2])\n",
    "    print(\"yeqr:\", book[3])\n",
    "    print(\"pages:\", book[4])\n",
    "    print()    "
   ]
  },
  {
   "cell_type": "code",
   "execution_count": 24,
   "id": "c03bb3e9",
   "metadata": {},
   "outputs": [
    {
     "name": "stdout",
     "output_type": "stream",
     "text": [
      "Author: Rabindranath Tagore\n",
      "Title: Kabuliwala\n",
      "ISBN: 978-0-7475-3269-6\n",
      "Publication Year: 1899\n",
      "Number of Pages: 120\n",
      "\n",
      "Author: S.K. Mapa\n",
      "Title: REal Analysis\n",
      "ISBN: 978-0-618-00221-3\n",
      "Publication Year: 2000\n",
      "Number of Pages: 702\n",
      "\n",
      "Author:  I. N. Herstien\n",
      "Title: Abstruct Algebra\n",
      "ISBN: 978-0-06-093546-7\n",
      "Publication Year: 2001\n",
      "Number of Pages: 654\n",
      "\n",
      "Author: S.Kumerson\n",
      "Title: Metric Spaces\n",
      "ISBN: 978-0-123-45678-9\n",
      "Publication Year: 2008\n",
      "Number of Pages: 400\n",
      "\n"
     ]
    }
   ],
   "source": [
    "\n",
    "catalog = [book1, book2, book3]\n",
    "\n",
    "# New book to be added\n",
    "new_book = (\"S.Kumerson\", \"Metric Spaces\", \"978-0-123-45678-9\", 2008, 400)\n",
    "\n",
    "# Find the correct position to insert the new book based on the publication year\n",
    "insert_index = len(catalog)\n",
    "for i, book in enumerate(catalog):\n",
    "    if book[3] > new_book[3]:\n",
    "        insert_index = i\n",
    "        break\n",
    "\n",
    "# Insert the new book into the catalog at the determined position\n",
    "catalog.insert(insert_index, new_book)\n",
    "\n",
    "# Sort the catalog based on the publication year\n",
    "catalog.sort(key=lambda x: x[3])\n",
    "\n",
    "# Print the updated catalog\n",
    "for book in catalog:\n",
    "    print(\"Author:\", book[0])\n",
    "    print(\"Title:\", book[1])\n",
    "    print(\"ISBN:\", book[2])\n",
    "    print(\"Publication Year:\", book[3])\n",
    "    print(\"Number of Pages:\", book[4])\n",
    "    print()"
   ]
  },
  {
   "cell_type": "code",
   "execution_count": 25,
   "id": "f407d3c2",
   "metadata": {},
   "outputs": [
    {
     "name": "stdout",
     "output_type": "stream",
     "text": [
      "Author: S.K. Mapa\n",
      "Title: REal Analysis\n",
      "ISBN: 978-0-618-00221-3\n",
      "Publication Year: 2000\n",
      "Number of Pages: 702\n",
      "\n",
      "Author:  I. N. Herstien\n",
      "Title: Abstruct Algebra\n",
      "ISBN: 978-0-06-093546-7\n",
      "Publication Year: 2001\n",
      "Number of Pages: 654\n",
      "\n",
      "Author: S.Kumerson\n",
      "Title: Metric Spaces\n",
      "ISBN: 978-0-123-45678-9\n",
      "Publication Year: 2008\n",
      "Number of Pages: 400\n",
      "\n"
     ]
    }
   ],
   "source": [
    "\n",
    "isbn_to_delete = \"978-0-7475-3269-6\"\n",
    "\n",
    "# Find the indexes of books with the given ISBN number\n",
    "indexes_to_delete = [i for i, book in enumerate(catalog) if book[2] == isbn_to_delete]\n",
    "\n",
    "# Remove the books with the given ISBN from the catalog\n",
    "for index in sorted(indexes_to_delete, reverse=True):\n",
    "    del catalog[index]\n",
    "\n",
    "# Print the updated catalog\n",
    "for book in catalog:\n",
    "    print(\"Author:\", book[0])\n",
    "    print(\"Title:\", book[1])\n",
    "    print(\"ISBN:\", book[2])\n",
    "    print(\"Publication Year:\", book[3])\n",
    "    print(\"Number of Pages:\", book[4])\n",
    "    print()"
   ]
  },
  {
   "cell_type": "code",
   "execution_count": 26,
   "id": "c505c3d1",
   "metadata": {},
   "outputs": [
    {
     "name": "stdout",
     "output_type": "stream",
     "text": [
      "Author: Rabindranath Tagore\n",
      "Title: Kabuliwala\n",
      "ISBN: 978-0-7475-3269-6\n",
      "Publication Year: 1899\n",
      "Number of Pages: 120\n",
      "\n",
      "Author: S.K. Mapa\n",
      "Title: REal Analysis\n",
      "ISBN: 978-0-618-00221-3\n",
      "Publication Year: 2000\n",
      "Number of Pages: 702\n",
      "\n",
      "Author:  I. N. Herstien\n",
      "Title: Abstruct Algebra\n",
      "ISBN: 978-0-06-093546-7\n",
      "Publication Year: 2001\n",
      "Number of Pages: 654\n",
      "\n",
      "Author: John Doe\n",
      "Title: A New Book\n",
      "ISBN: 978-0-123-45678-9\n",
      "Publication Year: 2022\n",
      "Number of Pages: 400\n",
      "\n"
     ]
    }
   ],
   "source": [
    "book1 = (\"Rabindranath Tagore\", \"Kabuliwala\", \"978-0-7475-3269-6\", 1899, 120)\n",
    "book2 = (\"S.K. Mapa\", \"REal Analysis\", \"978-0-618-00221-3\", 2000, 702)\n",
    "book3 = (\" I. N. Herstien\", \"Abstruct Algebra\", \"978-0-06-093546-7\", 2001, 654 )\n",
    "\n",
    "catalog= [book1, book2, book3]\n",
    "\n",
    "new_book = (\"John Doe\", \"A New Book\", \"978-0-123-45678-9\", 2022, 400)\n",
    "\n",
    "\n",
    "catalog.append(new_book)\n",
    "\n",
    "# Print the updated catalog\n",
    "for book in catalog:\n",
    "    print(\"Author:\", book[0])\n",
    "    print(\"Title:\", book[1])\n",
    "    print(\"ISBN:\", book[2])\n",
    "    print(\"Publication Year:\", book[3])\n",
    "    print(\"Number of Pages:\", book[4])\n",
    "    print()  "
   ]
  },
  {
   "cell_type": "code",
   "execution_count": 27,
   "id": "34f57986",
   "metadata": {},
   "outputs": [
    {
     "ename": "NameError",
     "evalue": "name 'book4' is not defined",
     "output_type": "error",
     "traceback": [
      "\u001b[1;31m---------------------------------------------------------------------------\u001b[0m",
      "\u001b[1;31mNameError\u001b[0m                                 Traceback (most recent call last)",
      "Cell \u001b[1;32mIn[27], line 7\u001b[0m\n\u001b[0;32m      4\u001b[0m book1 \u001b[38;5;241m=\u001b[39m (\u001b[38;5;124m\"\u001b[39m\u001b[38;5;124mRabindranath Tagore\u001b[39m\u001b[38;5;124m\"\u001b[39m, \u001b[38;5;124m\"\u001b[39m\u001b[38;5;124mKabuliwala\u001b[39m\u001b[38;5;124m\"\u001b[39m, \u001b[38;5;124m\"\u001b[39m\u001b[38;5;124m978-0-7475-3269-6\u001b[39m\u001b[38;5;124m\"\u001b[39m, \u001b[38;5;241m1899\u001b[39m, \u001b[38;5;241m120\u001b[39m)    \u001b[38;5;66;03m# Duplicate\u001b[39;00m\n\u001b[0;32m      5\u001b[0m book5 \u001b[38;5;241m=\u001b[39m (\u001b[38;5;124m\"\u001b[39m\u001b[38;5;124mJohn Doe\u001b[39m\u001b[38;5;124m\"\u001b[39m, \u001b[38;5;124m\"\u001b[39m\u001b[38;5;124mA New Book\u001b[39m\u001b[38;5;124m\"\u001b[39m, \u001b[38;5;124m\"\u001b[39m\u001b[38;5;124m978-0-123-45678-9\u001b[39m\u001b[38;5;124m\"\u001b[39m, \u001b[38;5;241m2022\u001b[39m, \u001b[38;5;241m400\u001b[39m)\n\u001b[1;32m----> 7\u001b[0m catalog \u001b[38;5;241m=\u001b[39m [book1, book2, book3, book4, book5]\n\u001b[0;32m      9\u001b[0m \u001b[38;5;66;03m# Dictionary to store seen ISBN numbers\u001b[39;00m\n\u001b[0;32m     10\u001b[0m seen_isbn \u001b[38;5;241m=\u001b[39m {}\n",
      "\u001b[1;31mNameError\u001b[0m: name 'book4' is not defined"
     ]
    }
   ],
   "source": [
    "book1 = (\"Rabindranath Tagore\", \"Kabuliwala\", \"978-0-7475-3269-6\", 1899, 120)\n",
    "book2 = (\"S.K. Mapa\", \"REal Analysis\", \"978-0-618-00221-3\", 2000, 702)\n",
    "book3 = (\" I. N. Herstien\", \"Abstruct Algebra\", \"978-0-06-093546-7\", 2001, 654 )\n",
    "book1 = (\"Rabindranath Tagore\", \"Kabuliwala\", \"978-0-7475-3269-6\", 1899, 120)    # Duplicate\n",
    "book5 = (\"John Doe\", \"A New Book\", \"978-0-123-45678-9\", 2022, 400)\n",
    "\n",
    "catalog = [book1, book2, book3, book4, book5]\n",
    "\n",
    "# Dictionary to store seen ISBN numbers\n",
    "seen_isbn = {}\n",
    "\n",
    "# List to store unique books\n",
    "unique_books = []\n",
    "\n",
    "# Iterate over the catalog to remove duplicates based on ISBN number\n",
    "for book in catalog:\n",
    "    isbn = book[2]\n",
    "    if isbn not in seen_isbn:\n",
    "        seen_isbn[isbn] = True\n",
    "        unique_books.append(book)\n",
    "\n",
    "catalog = unique_books\n",
    "\n",
    "for book in catalog:\n",
    "    print(\"Author:\", book[0])\n",
    "    print(\"Title:\", book[1])\n",
    "    print(\"ISBN:\", book[2])\n",
    "    print(\"Publication Year:\", book[3])\n",
    "    print(\"Number of Pages:\", book[4])\n",
    "    print() "
   ]
  },
  {
   "cell_type": "code",
   "execution_count": 28,
   "id": "ee9dfbbc",
   "metadata": {},
   "outputs": [
    {
     "name": "stdout",
     "output_type": "stream",
     "text": [
      "Author: S.K. Mapa\n",
      "Title: REal Analysis\n",
      "ISBN: 978-0-618-00221-3\n",
      "Publication Year: 2000\n",
      "Number of Pages: 702\n",
      "\n",
      "Author:  I. N. Herstien\n",
      "Title: Abstruct Algebra\n",
      "ISBN: 978-0-06-093546-7\n",
      "Publication Year: 2001\n",
      "Number of Pages: 654\n",
      "\n",
      "Author: John Doe\n",
      "Title: A New Book\n",
      "ISBN: 978-0-123-45678-9\n",
      "Publication Year: 2022\n",
      "Number of Pages: 400\n",
      "\n",
      "Author: Rabindranath Tagore\n",
      "Title: Kabuliwala\n",
      "ISBN: 978-0-7475-3269-6\n",
      "Publication Year: 1899\n",
      "Number of Pages: 120\n",
      "\n"
     ]
    }
   ],
   "source": [
    "book1 = (\"Rabindranath Tagore\", \"Kabuliwala\", \"978-0-7475-3269-6\", 1899, 120)\n",
    "book2 = (\"S.K. Mapa\", \"REal Analysis\", \"978-0-618-00221-3\", 2000, 702)\n",
    "book3 = (\" I. N. Herstien\", \"Abstruct Algebra\", \"978-0-06-093546-7\", 2001, 654 )\n",
    "book4 = (\"John Doe\", \"A New Book\", \"978-0-123-45678-9\", 2022, 400)\n",
    "\n",
    "catalog = [book1, book2, book3, book4]\n",
    "\n",
    "# Sort the catalog in descending order by the number of pages\n",
    "sorted_catalog = sorted(catalog, key=lambda x: x[4], reverse=True)\n",
    "\n",
    "# Print the sorted catalog\n",
    "for book in sorted_catalog:\n",
    "    print(\"Author:\", book[0])\n",
    "    print(\"Title:\", book[1])\n",
    "    print(\"ISBN:\", book[2])\n",
    "    print(\"Publication Year:\", book[3])\n",
    "    print(\"Number of Pages:\", book[4])\n",
    "    print()  "
   ]
  },
  {
   "cell_type": "markdown",
   "id": "252037d3",
   "metadata": {},
   "source": [
    "# QUESTION-2"
   ]
  },
  {
   "cell_type": "markdown",
   "id": "f4e90f5a",
   "metadata": {},
   "source": [
    "Write a program using list comprehension\n",
    "\n",
    "a) To add the corresponding elements of two lists and print the new list.\n",
    "\n",
    "b) To perform element wise multiplication of two lists and print the new list.\n",
    "\n",
    "c) To create a list of the unique characters of a given string. \n",
    "\n",
    "Eg: input = “hello” , output = [‘h’, ‘e’, ‘l’, ‘o’]"
   ]
  },
  {
   "cell_type": "code",
   "execution_count": null,
   "id": "ab173726",
   "metadata": {},
   "outputs": [],
   "source": [
    "a = int(input(\"enter the number of numbers in list1:\"))\n",
    "lst1 = []\n",
    "for i in range(a):\n",
    "    ele = int(input(\"enter the numbers in the list1:\"))\n",
    "    lst1.append(ele)\n",
    "print(\"List1 with respect to given numbers is : \",lst1)\n",
    "b = int(input(\"enter the number of numbers in list2:\"))\n",
    "lst2 = []\n",
    "for i in range(a):\n",
    "    ele = int(input(\"enter the numbers in the list2:\"))\n",
    "    lst2.append(ele)\n",
    "print(\"List2 with respect to given numbers is :\",lst2)\n",
    "print('List1 is :'+str(lst1))\n",
    "print('List2 is :'+str(lst2))"
   ]
  },
  {
   "cell_type": "code",
   "execution_count": null,
   "id": "2e4cb69c",
   "metadata": {},
   "outputs": [],
   "source": [
    "#a.To add the corresponding elements of two lists and print the new list.\n",
    "lst3 = []\n",
    "for i in range(len(lst1)):\n",
    "    lst3.append(lst1[i]+lst2[i])\n",
    "print(\"Addition of given lists with respect to element wise is\",lst3)"
   ]
  },
  {
   "cell_type": "code",
   "execution_count": 3,
   "id": "da1b5fb1",
   "metadata": {},
   "outputs": [
    {
     "name": "stdout",
     "output_type": "stream",
     "text": [
      "Multiplication of given lists with respect to element wise is [1, 4]\n"
     ]
    }
   ],
   "source": [
    "#b.To perform element wise multiplication of two lists and print the new list.\n",
    "lst4 =[]\n",
    "for i in range(len(lst1)):\n",
    "    lst4.append(lst1[i]*lst2[i])\n",
    "print(\"Multiplication of given lists with respect to element wise is\",lst4)"
   ]
  },
  {
   "cell_type": "code",
   "execution_count": 4,
   "id": "f6329dae",
   "metadata": {},
   "outputs": [
    {
     "name": "stdout",
     "output_type": "stream",
     "text": [
      "enter the stringvenkyvenky\n",
      "[{'e', 'k', 'n', 'y', 'v'}]\n"
     ]
    }
   ],
   "source": [
    "#c.To create a list of the unique characters of a given string.\n",
    "lst5 =[]\n",
    "string = input(\"enter the string\")\n",
    "res = set(i for ele in string for i in ele)\n",
    "lst5.append(res)\n",
    "print(lst5)"
   ]
  },
  {
   "cell_type": "markdown",
   "id": "922d0600",
   "metadata": {},
   "source": [
    "## QUESTION-3"
   ]
  },
  {
   "cell_type": "markdown",
   "id": "0cc19044",
   "metadata": {},
   "source": [
    "Using the zip function, WAP\n",
    "\n",
    "a) To add the elements of 2 matrices (Define matrices as per your wish).\n",
    "\n",
    "b) To perform element wise multiplication on 2 matrices."
   ]
  },
  {
   "cell_type": "code",
   "execution_count": 9,
   "id": "25e328d4",
   "metadata": {},
   "outputs": [
    {
     "name": "stdout",
     "output_type": "stream",
     "text": [
      "Result of adding matrices:\n",
      "[10, 10]\n",
      "[11, 11]\n"
     ]
    }
   ],
   "source": [
    "mat1 = [[1, 2],[4, 5]]\n",
    "\n",
    "mat2 = [[9, 8],[7,6]]\n",
    "\n",
    "#a.To add the elements of 2 matrices\n",
    "mat3 = []\n",
    "for row1, row2 in zip(mat1, mat2):\n",
    "    mat_add = [x + y for x, y in zip(row1, row2)]\n",
    "    mat3.append(mat_add)\n",
    "print(\"Result of adding matrices:\")\n",
    "for row in mat3:\n",
    "    print(row)"
   ]
  },
  {
   "cell_type": "code",
   "execution_count": 8,
   "id": "553122f5",
   "metadata": {},
   "outputs": [
    {
     "name": "stdout",
     "output_type": "stream",
     "text": [
      "Result of adding matrices:\n",
      "[9, 16]\n",
      "[21, 24]\n"
     ]
    }
   ],
   "source": [
    "#b.To perform element wise multiplication on 2 matrices\n",
    "mat4 = []\n",
    "for row1, row2 in zip(mat1, mat2):\n",
    "    mat_mul = [x * y for x, y in zip(row1, row2)]\n",
    "    mat4.append(mat_mul)\n",
    "print(\"Result of adding matrices:\")\n",
    "for row in mat4:\n",
    "    print(row)"
   ]
  },
  {
   "cell_type": "markdown",
   "id": "42fb3c9a",
   "metadata": {},
   "source": [
    "# QUESTION-4"
   ]
  },
  {
   "cell_type": "markdown",
   "id": "a9f05e61",
   "metadata": {},
   "source": [
    "List of List : Given a square matrix represented as a list of lists, \n",
    "\n",
    "a) WAP to print the row sum, column sum and trace of the matrix \n",
    "\n",
    "b) WAP to print the transpose of the matrix.\n",
    "\n",
    "c) WAP to check whether the given matrix is symmetric or not.\n",
    "\n",
    "d) WAP to check whether the Identity matrix (I) is positive definite or not by using Quadratic form method (x^T*I*x > 0), where x is any non zero vector."
   ]
  },
  {
   "cell_type": "code",
   "execution_count": 10,
   "id": "df0e592b",
   "metadata": {},
   "outputs": [
    {
     "name": "stdout",
     "output_type": "stream",
     "text": [
      "order of given square matrix is:  2\n",
      "Row 1 sum is : 3\n",
      "Row 2 sum is : 7\n",
      "Resultent matrix with element wise addition is:  [[3, 7]]\n",
      "Column 1 sum is : 4\n",
      "Column 2 sum is : 6\n",
      "each column sum of the given matrix is  [[4, 6]]\n",
      "\n",
      "Trace of the matrix: 5\n"
     ]
    }
   ],
   "source": [
    "mat1 = [[1,2],[3,4]]\n",
    "n = len(mat1)\n",
    "print(\"order of given square matrix is: \",n)\n",
    "\n",
    "\n",
    "#a.WAP to print the row sum, column sum and trace of the matrix\n",
    "\n",
    "#Row sum\n",
    "lst1 =[]\n",
    "row_sum =[sum(row) for row in mat1]\n",
    "for i in range(n):\n",
    "    print(f\"Row {i+1} sum is : {row_sum[i]}\")\n",
    "lst1.append(row_sum)\n",
    "print(\"Resultent matrix with element wise addition is: \",lst1)\n",
    "\n",
    "\n",
    "#column sum\n",
    "lst2 =[]\n",
    "col_sum = [sum(mat1[i][j] for i in range(n)) for j in range(n)]\n",
    "for j in range(n):\n",
    "    print(f\"Column {j+1} sum is : {col_sum[j]}\")\n",
    "lst2.append(col_sum)\n",
    "print(\"each column sum of the given matrix is \",lst2)\n",
    "\n",
    "#Trace\n",
    "trace = sum(mat1[i][i] for i in range(n))\n",
    "print(f\"\\nTrace of the matrix: {trace}\")"
   ]
  },
  {
   "cell_type": "code",
   "execution_count": 11,
   "id": "6561e047",
   "metadata": {},
   "outputs": [
    {
     "name": "stdout",
     "output_type": "stream",
     "text": [
      "Transpose of the matrix:\n",
      "[1, 3]\n",
      "[2, 4]\n"
     ]
    }
   ],
   "source": [
    "#b.WAP to print the transpose of the matrix.\n",
    "rows = len(mat1)\n",
    "cols = len(mat1[0])\n",
    "trans =[]\n",
    "for j in range(cols):\n",
    "    trans_row = []\n",
    "    for i in range(rows):\n",
    "        trans_row.append(mat1[i][j])\n",
    "    trans.append(trans_row)\n",
    "\n",
    "print(\"Transpose of the matrix:\")\n",
    "for row in trans:\n",
    "    print(row)"
   ]
  },
  {
   "cell_type": "code",
   "execution_count": 12,
   "id": "14ba0d8c",
   "metadata": {},
   "outputs": [
    {
     "name": "stdout",
     "output_type": "stream",
     "text": [
      "Given matrix is not symmetric\n"
     ]
    }
   ],
   "source": [
    "#c.WAP to check whether the given matrix is symmetric or not.\n",
    "if  (mat1 == trans):\n",
    "    print(\"Given matrix is symmetric\")\n",
    "else:\n",
    "    print(\"Given matrix is not symmetric\")"
   ]
  },
  {
   "cell_type": "code",
   "execution_count": 13,
   "id": "a25120f5",
   "metadata": {},
   "outputs": [
    {
     "name": "stdout",
     "output_type": "stream",
     "text": [
      "The identity matrix is positive definite.\n"
     ]
    }
   ],
   "source": [
    "#d.WAP to check whether the Identity matrix (I) is positive definite or not by using Quadratic form method (x^TIx > 0)\n",
    "#where x is any non zero vector.\n",
    "\n",
    "import numpy as np\n",
    "\n",
    "I = np.identity(3)  \n",
    "def is_positive_definite(mat3):\n",
    "    for i in range(len(mat3)):\n",
    "        for j in range(len(mat3)):\n",
    "            if i != j:\n",
    "                if mat3[i][j] != 0:\n",
    "                    return False\n",
    "    return True\n",
    "\n",
    "if is_positive_definite(I):\n",
    "    print(\"The identity matrix is positive definite.\")\n",
    "else:\n",
    "    print(\"The identity matrix is not positive definite.\")"
   ]
  },
  {
   "cell_type": "markdown",
   "id": "a496ca3b",
   "metadata": {},
   "source": [
    "# QUESTION-5"
   ]
  },
  {
   "cell_type": "markdown",
   "id": "f2d6f141",
   "metadata": {},
   "source": [
    "List of Lists : WAP to remove sub lists from a given list of lists that contain an element outside a given range.\n",
    "Example :\n",
    "Input :[[3], [1, 3, 2],[0, 1, 9, 3, 5, 7], [9, 10], [13, 14, 16, 17]],Range: 1, 5\n",
    "Output : [[3], [1, 3, 2]]\n",
    "\n",
    "Explanation : If a sublist has a number that is other than 1, 2, 3, 4, 5, remove the sublist from the list of lists and print the remaining sublists as a lists of lists"
   ]
  },
  {
   "cell_type": "code",
   "execution_count": 14,
   "id": "c50403a7",
   "metadata": {},
   "outputs": [
    {
     "name": "stdout",
     "output_type": "stream",
     "text": [
      "[[1, 2]]\n"
     ]
    }
   ],
   "source": [
    "input_lists = [[1,2],[-3,0,4],[100,20,30],[18,336],[45]]\n",
    "start_range = 1\n",
    "end_range = 5\n",
    "\n",
    "def filter_sublists(list_of_lists, range_start, range_end):\n",
    "    filtered_lists = []\n",
    "    for sublist in list_of_lists:\n",
    "        # Check if any element in the sublist is outside the given range\n",
    "        if any(element < range_start or element > range_end for element in sublist):\n",
    "            continue  # Skip this sublist\n",
    "        filtered_lists.append(sublist)\n",
    "    return filtered_lists\n",
    "\n",
    "filtered_lists = filter_sublists(input_lists, start_range, end_range)\n",
    "print(filtered_lists)"
   ]
  }
 ],
 "metadata": {
  "kernelspec": {
   "display_name": "Python 3 (ipykernel)",
   "language": "python",
   "name": "python3"
  },
  "language_info": {
   "codemirror_mode": {
    "name": "ipython",
    "version": 3
   },
   "file_extension": ".py",
   "mimetype": "text/x-python",
   "name": "python",
   "nbconvert_exporter": "python",
   "pygments_lexer": "ipython3",
   "version": "3.11.5"
  }
 },
 "nbformat": 4,
 "nbformat_minor": 5
}
