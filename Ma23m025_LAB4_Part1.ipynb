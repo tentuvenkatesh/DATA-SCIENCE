{
 "cells": [
  {
   "cell_type": "markdown",
   "id": "daa4e724",
   "metadata": {},
   "source": [
    "# QUESTION-1"
   ]
  },
  {
   "cell_type": "markdown",
   "id": "5c66bd79",
   "metadata": {},
   "source": [
    "Explore the use and syntax of common built-in functions: \n",
    "\n",
    "range(), \n",
    "\n",
    "iter(), \n",
    "\n",
    "eval(), \n",
    "\n",
    "enumerate(), \n",
    "\n",
    "zip(), \n",
    "\n",
    "lambda, \n",
    "\n",
    "input(), \n",
    "\n",
    "map(), \n",
    "\n",
    "filter(), \n",
    "\n",
    "next()\n",
    "\n",
    "reduce()\n",
    "\n",
    "Include a short description and a practical code example for each, ensuring clarity through comments."
   ]
  },
  {
   "cell_type": "markdown",
   "id": "d14a484c",
   "metadata": {},
   "source": [
    "# 1.range()"
   ]
  },
  {
   "cell_type": "code",
   "execution_count": 59,
   "id": "ed4ba0b3",
   "metadata": {},
   "outputs": [
    {
     "name": "stdout",
     "output_type": "stream",
     "text": [
      "0\n",
      "1\n",
      "2\n",
      "3\n",
      "4\n",
      "5\n",
      "6\n",
      "7\n",
      "8\n",
      "9\n"
     ]
    }
   ],
   "source": [
    "for i in range(10):\n",
    "    print(i)"
   ]
  },
  {
   "cell_type": "markdown",
   "id": "26e3d7d1",
   "metadata": {},
   "source": [
    "range() will generate the numbers from one one number to another number."
   ]
  },
  {
   "cell_type": "markdown",
   "id": "abdf3bd2",
   "metadata": {},
   "source": [
    "# 2.iter()"
   ]
  },
  {
   "cell_type": "code",
   "execution_count": 60,
   "id": "982ebf6f",
   "metadata": {},
   "outputs": [
    {
     "name": "stdout",
     "output_type": "stream",
     "text": [
      "1\n"
     ]
    }
   ],
   "source": [
    "lst = [1,2,3,1]\n",
    "iter1 = iter(lst)\n",
    "print(next(iter1))"
   ]
  },
  {
   "cell_type": "markdown",
   "id": "5e449175",
   "metadata": {},
   "source": [
    "iter() will give the number which is iterating in the given list."
   ]
  },
  {
   "cell_type": "markdown",
   "id": "fdd92cdf",
   "metadata": {},
   "source": [
    "# 3.eval()"
   ]
  },
  {
   "cell_type": "code",
   "execution_count": 61,
   "id": "0c402e6d",
   "metadata": {},
   "outputs": [
    {
     "name": "stdout",
     "output_type": "stream",
     "text": [
      "8\n"
     ]
    }
   ],
   "source": [
    "num = eval(\"2 * 3 + 2\")\n",
    "print(num)"
   ]
  },
  {
   "cell_type": "markdown",
   "id": "4e6daafb",
   "metadata": {},
   "source": [
    "eval() exicutes a string containing expressions."
   ]
  },
  {
   "cell_type": "markdown",
   "id": "5474c1be",
   "metadata": {},
   "source": [
    "# 4.enumerate()"
   ]
  },
  {
   "cell_type": "code",
   "execution_count": 62,
   "id": "519e11d6",
   "metadata": {},
   "outputs": [
    {
     "name": "stdout",
     "output_type": "stream",
     "text": [
      "0 1\n",
      "1 2\n",
      "2 3\n"
     ]
    }
   ],
   "source": [
    "lst = [ 1 , 2, 3 ]\n",
    "for key,value in enumerate(lst):\n",
    "    print(key,value)"
   ]
  },
  {
   "cell_type": "markdown",
   "id": "dacc3b6b",
   "metadata": {},
   "source": [
    "Returns an iterator that yields tuples containing a count (from start, which defaults to 0) and the values obtained from iterating over the given iterable."
   ]
  },
  {
   "cell_type": "markdown",
   "id": "1c949e7f",
   "metadata": {},
   "source": [
    "# 5.zip()"
   ]
  },
  {
   "cell_type": "code",
   "execution_count": 63,
   "id": "50141959",
   "metadata": {},
   "outputs": [
    {
     "name": "stdout",
     "output_type": "stream",
     "text": [
      "[(1, 5), (2, 6), (3, 7), (4, 8)]\n"
     ]
    }
   ],
   "source": [
    "lst1 = [1,2,3,4]\n",
    "lst2 = [5,6,7,8]\n",
    "lst3 = zip(lst1,lst2)\n",
    "print(list(lst3))"
   ]
  },
  {
   "cell_type": "markdown",
   "id": "b159e4b1",
   "metadata": {},
   "source": [
    "Returns an iterator that aggregates elements from two or more iterables."
   ]
  },
  {
   "cell_type": "markdown",
   "id": "ef463f49",
   "metadata": {},
   "source": [
    "# 6.lambda"
   ]
  },
  {
   "cell_type": "code",
   "execution_count": 64,
   "id": "181efcdd",
   "metadata": {},
   "outputs": [
    {
     "name": "stdout",
     "output_type": "stream",
     "text": [
      "4\n"
     ]
    }
   ],
   "source": [
    "square = lambda x : x**2\n",
    "print(square(2))"
   ]
  },
  {
   "cell_type": "markdown",
   "id": "ad578823",
   "metadata": {},
   "source": [
    "Creates an anonymus function"
   ]
  },
  {
   "cell_type": "markdown",
   "id": "308ffb02",
   "metadata": {},
   "source": [
    "# 7.input()"
   ]
  },
  {
   "cell_type": "code",
   "execution_count": null,
   "id": "deb5fc2e",
   "metadata": {},
   "outputs": [],
   "source": [
    "name = input(\"enter your name: \")\n",
    "print(name)"
   ]
  },
  {
   "cell_type": "markdown",
   "id": "c52486fd",
   "metadata": {},
   "source": [
    "it takes input from the user"
   ]
  },
  {
   "cell_type": "markdown",
   "id": "05c91bfb",
   "metadata": {},
   "source": [
    "# 8.map()"
   ]
  },
  {
   "cell_type": "code",
   "execution_count": null,
   "id": "61fb600a",
   "metadata": {},
   "outputs": [],
   "source": [
    "lst1 = [1,2,3]\n",
    "squared = list(map(lambda x : x**2,lst1))\n",
    "print(squared)"
   ]
  },
  {
   "cell_type": "markdown",
   "id": "a8d65a7a",
   "metadata": {},
   "source": [
    "it maps to a function and gives rhe required output."
   ]
  },
  {
   "cell_type": "markdown",
   "id": "f844bf13",
   "metadata": {},
   "source": [
    "# 9.filter()"
   ]
  },
  {
   "cell_type": "code",
   "execution_count": null,
   "id": "be5f7d31",
   "metadata": {},
   "outputs": [],
   "source": [
    "lst1 = [1,2,3,4]\n",
    "squared = list(filter(lambda x : x % 2 == 0,lst1))\n",
    "print(squared)"
   ]
  },
  {
   "cell_type": "markdown",
   "id": "a0080056",
   "metadata": {},
   "source": [
    "filters the given list based on trhe given condition"
   ]
  },
  {
   "cell_type": "markdown",
   "id": "e044bf97",
   "metadata": {},
   "source": [
    "# 10.next()"
   ]
  },
  {
   "cell_type": "code",
   "execution_count": null,
   "id": "b40f4680",
   "metadata": {},
   "outputs": [],
   "source": [
    "lst1 = iter([1,2,3,1,2])\n",
    "print(next(lst1))"
   ]
  },
  {
   "cell_type": "markdown",
   "id": "995619d8",
   "metadata": {},
   "source": [
    "Returns the next value in the iterator"
   ]
  },
  {
   "cell_type": "markdown",
   "id": "d0805c17",
   "metadata": {},
   "source": [
    "# 11.reduce()"
   ]
  },
  {
   "cell_type": "code",
   "execution_count": null,
   "id": "9f246d47",
   "metadata": {},
   "outputs": [],
   "source": [
    "lst1 = [2,3,4]\n",
    "from functools import reduce\n",
    "num = reduce(lambda x ,y: x + y,lst1)\n",
    "print(num)"
   ]
  },
  {
   "cell_type": "markdown",
   "id": "ef660bfe",
   "metadata": {},
   "source": [
    "Based on given list \"reduce()\" will give single value."
   ]
  },
  {
   "cell_type": "markdown",
   "id": "29a43668",
   "metadata": {},
   "source": [
    "# QUESTION-2"
   ]
  },
  {
   "cell_type": "markdown",
   "id": "e4a24bbf",
   "metadata": {},
   "source": [
    " Write a Python function that sorts a dictionary based on the length of values.\n",
    "\n",
    "Sample:\n",
    "\n",
    "Input: {'lemon':'yellow','apple':'red'} output: {'apple':'red','lemon':'yellow'}"
   ]
  },
  {
   "cell_type": "code",
   "execution_count": null,
   "id": "4722dc2e",
   "metadata": {},
   "outputs": [],
   "source": [
    "def sort_dict_on_length_of_value(input_dic):\n",
    "    sorted_items = sorted(input_dic.items(), key=lambda x: len(x[1]))\n",
    "    sorted_dic = dict(sorted_items)\n",
    "    return sorted_dic\n",
    "\n",
    "#inputs for above program\n",
    "input_dic = {'lemon':'yellow','apple':'red'}\n",
    "output_dic = sort_dict_on_length_of_value(input_dic)\n",
    "print(output_dic)"
   ]
  },
  {
   "cell_type": "markdown",
   "id": "255588f5",
   "metadata": {},
   "source": [
    "# QUESTION-3"
   ]
  },
  {
   "cell_type": "markdown",
   "id": "55225de5",
   "metadata": {},
   "source": [
    "Develop a Python program that executes the following tasks with a user-provided string:\n",
    "\n",
    "a. Prompt the user to input a string.\n",
    "\n",
    "b. Create a dictionary from the string where each key is a unique alphabet character and the corresponding value is the frequency of that character's occurrence in the string.\n",
    "\n",
    "c. Generate a sorted list of tuples from the dictionary based on character frequency (values).\n",
    "\n",
    "d. Generate a sorted list of tuples from the dictionary based on the alphabet characters (keys).\n",
    "\n",
    "e. Identify the three most frequently occurring characters. In the event of a frequency tie, prioritize characters in lexicographical order.\n",
    "\n",
    "Your program should showcase proficiency in dictionary operations, sorting mechanisms, and handling of ties in frequency counts. Comment your code to outline the process and decisions made.\n",
    "\n",
    "sample:\n",
    "\n",
    "input = 'GOOGLE'\n",
    "\n",
    "Here, the most repeated characters are G:2, O:2. But, L,E are occurring only a single time which is tied for the third position here, so here we take E as it comes first in the lexicographical order."
   ]
  },
  {
   "cell_type": "code",
   "execution_count": 3,
   "id": "23c37a4c",
   "metadata": {},
   "outputs": [
    {
     "name": "stdout",
     "output_type": "stream",
     "text": [
      "Enter a string: google\n",
      "\n",
      "Character frequencies:\n",
      "G: 2\n",
      "O: 2\n",
      "E: 1\n",
      "L: 1\n",
      "\n",
      "Sorted by frequency:\n",
      "G: 2\n",
      "O: 2\n",
      "E: 1\n",
      "L: 1\n",
      "\n",
      "Sorted alphabetically:\n",
      "E: 1\n",
      "G: 2\n",
      "L: 1\n",
      "O: 2\n",
      "\n",
      "Three most frequent characters:\n",
      "G: 2\n",
      "O: 2\n",
      "E: 1\n"
     ]
    }
   ],
   "source": [
    "# Step a: Prompt user for input string\n",
    "user_input = input(\"Enter a string: \").upper()\n",
    "\n",
    "# Step b: Create a dictionary with character frequencies\n",
    "char_frequency = {}\n",
    "for char in user_input:\n",
    "    if char.isalpha():  # Consider only alphabetic characters\n",
    "        char_frequency[char] = char_frequency.get(char, 0) + 1\n",
    "        \n",
    "\n",
    "    \n",
    "\n",
    "# Step c: Sort dictionary items by frequency\n",
    "sorted_by_frequency = sorted(char_frequency.items(), key=lambda x: (-x[1], x[0]))\n",
    "\n",
    "\n",
    "# Step d: Sort dictionary items by alphabet\n",
    "sorted_by_alphabet = sorted(char_frequency.items())\n",
    "\n",
    "\n",
    "\n",
    "# Step e: Identify the three most frequent characters\n",
    "most_frequent = sorted_by_frequency[:3]\n",
    "\n",
    "print(\"\\nCharacter frequencies:\")\n",
    "for char, freq in sorted_by_frequency:\n",
    "    print(f\"{char}: {freq}\")\n",
    "    \n",
    "print(\"\\nSorted by frequency:\")\n",
    "for char, freq in sorted_by_frequency:\n",
    "    print(f\"{char}: {freq}\")\n",
    "\n",
    "print(\"\\nSorted alphabetically:\")\n",
    "for char, freq in sorted_by_alphabet:\n",
    "    print(f\"{char}: {freq}\")\n",
    "\n",
    "print(\"\\nThree most frequent characters:\")\n",
    "for char, freq in most_frequent:\n",
    "    print(f\"{char}: {freq}\")"
   ]
  },
  {
   "cell_type": "markdown",
   "id": "02ee7642",
   "metadata": {},
   "source": [
    "# QUESTION-4"
   ]
  },
  {
   "cell_type": "markdown",
   "id": "968dbcfb",
   "metadata": {},
   "source": [
    "Write a function called lookup_student that takes a dictionary representing student records, where names are keys and roll numbers are values. The function should search for a specified student name and return the corresponding roll number if found; otherwise, it should return \"Not Found\" \n",
    "\n",
    "Example:\n",
    "\n",
    "records = { \"Alice\" : \"AB111\", \"Bob\" : \"EE200\", \"David\" : \"XY333\"}\n",
    "\n",
    "print(lookup_student(records, \"Bob\")) : Should print \"EE200\"\n",
    "\n",
    "print(lookup_student(records, \"John\")) : Should print \"Not Found\""
   ]
  },
  {
   "cell_type": "code",
   "execution_count": 13,
   "id": "b63be4a4",
   "metadata": {},
   "outputs": [
    {
     "name": "stdout",
     "output_type": "stream",
     "text": [
      "EE200\n",
      "not found\n"
     ]
    }
   ],
   "source": [
    "def lookup_student(records,name):\n",
    "    if name in records:\n",
    "        return records[name]\n",
    "    else:\n",
    "        return \"not found\"\n",
    "\n",
    "records = { \"Alice\" : \"AB111\", \"Bob\" : \"EE200\", \"David\" : \"XY333\"}\n",
    "\n",
    "print(lookup_student(records, \"Bob\"))  \n",
    "print(lookup_student(records, \"John\")) "
   ]
  },
  {
   "cell_type": "markdown",
   "id": "87af9348",
   "metadata": {},
   "source": [
    "# QUESTION-5"
   ]
  },
  {
   "cell_type": "markdown",
   "id": "0d490629",
   "metadata": {},
   "source": [
    "Given a list of integers, write a Python program to:\n",
    "\n",
    "a) Find the frequency of each integer in the list and store the result in a dictionary.\n",
    "\n",
    "b) Print the maximum integer and its frequency.\n",
    "\n",
    "c) Remove duplicates from the list and print the new list without changing the order of elements. Do this operation without using the set data type.\n",
    "\n",
    "d) Remove duplicates from the list and print the new list. Do this operation using the set data type."
   ]
  },
  {
   "cell_type": "code",
   "execution_count": 12,
   "id": "de556a33",
   "metadata": {},
   "outputs": [
    {
     "name": "stdout",
     "output_type": "stream",
     "text": [
      "{1: 3, 2: 4, 3: 7, 4: 2, 5: 3, 9: 1, 10: 1, 34: 2}\n",
      "The maximum integer is 34 with a frequency of 2\n",
      "List without duplicates (order preserved): [1, 2, 3, 4, 5, 9, 10, 34]\n",
      "List without duplicates (order may change): [1, 2, 3, 4, 5, 34, 9, 10]\n"
     ]
    }
   ],
   "source": [
    "# Step a: Find frequency of each integer and store in a dictionary\n",
    "numbers = [1,2,3,4,1,3,5,3,1,3,4,9,5,10,2,34,3,2,5,3,3,2,34]\n",
    "frequency_dict = {}\n",
    "for num in numbers:\n",
    "    frequency_dict[num] = frequency_dict.get(num, 0) + 1\n",
    "print(frequency_dict)\n",
    "\n",
    "# Step b: Print maximum integer and its frequency\n",
    "max_num = max(numbers)\n",
    "max_frequency = frequency_dict[max_num]\n",
    "print(f\"The maximum integer is {max_num} with a frequency of {max_frequency}\")\n",
    "\n",
    "# Step c: Remove duplicates without changing order\n",
    "unique_numbers = []\n",
    "for num in numbers:\n",
    "    if num not in unique_numbers:\n",
    "        unique_numbers.append(num)\n",
    "print(\"List without duplicates (order preserved):\", unique_numbers)\n",
    "\n",
    "# Step d: Remove duplicates using set data type\n",
    "unique_numbers_set = list(set(numbers))\n",
    "print(\"List without duplicates (order may change):\", unique_numbers_set)"
   ]
  }
 ],
 "metadata": {
  "kernelspec": {
   "display_name": "Python 3 (ipykernel)",
   "language": "python",
   "name": "python3"
  },
  "language_info": {
   "codemirror_mode": {
    "name": "ipython",
    "version": 3
   },
   "file_extension": ".py",
   "mimetype": "text/x-python",
   "name": "python",
   "nbconvert_exporter": "python",
   "pygments_lexer": "ipython3",
   "version": "3.11.5"
  }
 },
 "nbformat": 4,
 "nbformat_minor": 5
}
