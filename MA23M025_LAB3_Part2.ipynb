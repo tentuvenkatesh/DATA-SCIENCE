{
 "cells": [
  {
   "cell_type": "markdown",
   "id": "aee2b734",
   "metadata": {},
   "source": [
    "# QUESTION-6"
   ]
  },
  {
   "cell_type": "markdown",
   "id": "df241c82",
   "metadata": {},
   "source": [
    "List comprehension  : Given two lists of equal length, list1 contains the integers and list2 contains alphabets. Using list comprehension, WAP\n",
    "\n",
    "a) To generate a list containing the squares of elements from list1.\n",
    "\n",
    "b) To generate a list containing pairwise corresponding elements in the form of tuple.\n",
    "\n",
    "c) To generate a list containing all possible combinations of elements from the two lists.\n",
    "\n",
    "d) To generate a list containing elements of list1 and list2 alternatively.\n",
    "\n",
    "Example:\n",
    "\n",
    "Input:\n",
    "\n",
    "list1 = [1,2]   list2 = ['a','b']\n",
    "\n",
    "Output:\n",
    "\n",
    "a) [1, 4]\n",
    "\n",
    "b) [(1,'a'), (2,'b')]\n",
    "\n",
    "c) [(1,'a'),(1,'b'),(2,'a'), (2,'b')]\n",
    "\n",
    "d) [1,'a',2,'b']"
   ]
  },
  {
   "cell_type": "code",
   "execution_count": 6,
   "id": "142ea5ea",
   "metadata": {},
   "outputs": [
    {
     "name": "stdout",
     "output_type": "stream",
     "text": [
      "[1, 4]\n"
     ]
    }
   ],
   "source": [
    "lst1 = [1, 2]\n",
    "lst2 = [x**2 for x in lst1]\n",
    "print(lst2)  # Output: [1, 4]"
   ]
  },
  {
   "cell_type": "code",
   "execution_count": 7,
   "id": "c7be7d0f",
   "metadata": {},
   "outputs": [
    {
     "name": "stdout",
     "output_type": "stream",
     "text": [
      "[(1, 'a'), (2, 'b')]\n"
     ]
    }
   ],
   "source": [
    "lst3 = [1, 2]\n",
    "lst4 = ['a', 'b']\n",
    "lst5 = [(lst3[i], lst4[i]) for i in range(len(lst3))]\n",
    "print(lst5)  # Output: [(1, 'a'), (2, 'b')]"
   ]
  },
  {
   "cell_type": "code",
   "execution_count": 9,
   "id": "9c4552b4",
   "metadata": {},
   "outputs": [
    {
     "name": "stdout",
     "output_type": "stream",
     "text": [
      "[(1, 'a'), (1, 'b'), (2, 'a'), (2, 'b')]\n"
     ]
    }
   ],
   "source": [
    "lst6 = [1, 2]\n",
    "lst7 = ['a', 'b']\n",
    "lst8 = [(x, y) for x in lst6 for y in lst7]\n",
    "print(lst8)  # Output: [(1, 'a'), (1, 'b'), (2, 'a'), (2, 'b')]"
   ]
  },
  {
   "cell_type": "code",
   "execution_count": 8,
   "id": "5af85305",
   "metadata": {},
   "outputs": [
    {
     "name": "stdout",
     "output_type": "stream",
     "text": [
      "[1, 'a', 2, 'b']\n"
     ]
    }
   ],
   "source": [
    "lst9 = [1, 2]\n",
    "lst10 = ['a', 'b']\n",
    "lst11 = [val for pair in zip(lst9, lst10) for val in pair]\n",
    "print(lst11)  # Output: [1, 'a', 2, 'b']"
   ]
  },
  {
   "cell_type": "markdown",
   "id": "be562cf9",
   "metadata": {},
   "source": [
    "# QUESTION-7"
   ]
  },
  {
   "cell_type": "markdown",
   "id": "0555af7e",
   "metadata": {},
   "source": [
    "Find out the applicable methods for the list but not tuples. List them out."
   ]
  },
  {
   "cell_type": "markdown",
   "id": "1b4b537e",
   "metadata": {},
   "source": [
    "There are so many methods which we can apply to lists but not tupples,one of the most important one is List is Mutable but where as Tuple is Immutable.\n",
    "\n",
    "1.append():We can add an element at the end of the List but we can not do it in Tuple\n",
    "\n",
    "2.sort():We can do sorting in List but not in Tuple\n",
    "\n",
    "3.count():It will returns the number of occurences of a specific value\n",
    "\n",
    "4.reverse():Reverses the elements of the list in place.\n",
    "\n",
    "5.extend():Extends the list by appending elements from an iterable."
   ]
  },
  {
   "cell_type": "markdown",
   "id": "f3ad512c",
   "metadata": {},
   "source": [
    "# QUESTION-8"
   ]
  },
  {
   "cell_type": "markdown",
   "id": "13ea5413",
   "metadata": {},
   "source": [
    "Write a code snippet in Python that takes a string as input and returns a tuple of tuples. Each inner tuple should contain a character from the input string and its corresponding ASCII value.\\\n",
    "Sample example: Input_string = \"Design\",  Output_tuple = (('D', 68), ('e', 101), ('s', 115), ('i', 105), ('g', 103),('n', 110) )"
   ]
  },
  {
   "cell_type": "code",
   "execution_count": 11,
   "id": "db623dc5",
   "metadata": {},
   "outputs": [
    {
     "name": "stdout",
     "output_type": "stream",
     "text": [
      "(('D', 68), ('e', 101), ('s', 115), ('i', 105), ('g', 103), ('n', 110))\n"
     ]
    }
   ],
   "source": [
    "str1 = \"Design\"\n",
    "tup1 = tuple((char, ord(char)) for char in str1)\n",
    "print(tup1)"
   ]
  },
  {
   "cell_type": "markdown",
   "id": "053334b5",
   "metadata": {},
   "source": [
    "# QUESTION-9"
   ]
  },
  {
   "cell_type": "markdown",
   "id": "33a703ab",
   "metadata": {},
   "source": [
    "Create a program that takes a list of tuples containing student name and roll number and returns a new list of tuples containing only those tuples whose first element is a vowel (a, e, i, o, u, A, E, I, O, U).\n",
    "\n",
    "Sample example: list_of_tuples = [(\"aditi\", 1), (\"tanya\", 2)], Output_list_of_tuples = [(\"aditi\", 1)]"
   ]
  },
  {
   "cell_type": "code",
   "execution_count": 4,
   "id": "1d18cac5",
   "metadata": {},
   "outputs": [
    {
     "name": "stdout",
     "output_type": "stream",
     "text": [
      "[('aditi', 1), ('emma', 3), ('oliver', 4)]\n"
     ]
    }
   ],
   "source": [
    "tup1 = [(\"aditi\", 1), (\"tanya\", 2), (\"emma\", 3), (\"oliver\", 4)]\n",
    "vowels = {'a', 'e', 'i', 'o', 'u', 'A', 'E', 'I', 'O', 'U'}\n",
    "tup2 = [(name, roll) for name, roll in tup1 if name[0] in vowels]\n",
    "print(tup2)  # Output: [('aditi', 1), ('emma', 3), ('oliver', 4)]"
   ]
  },
  {
   "cell_type": "markdown",
   "id": "32e5dd42",
   "metadata": {},
   "source": [
    "# QUESTION-10"
   ]
  },
  {
   "cell_type": "markdown",
   "id": "d050bb64",
   "metadata": {},
   "source": [
    "Create a set of all numbers between 1 and 20 that are either divisible by 3 or 5, using set comprehension."
   ]
  },
  {
   "cell_type": "code",
   "execution_count": 3,
   "id": "348f7080",
   "metadata": {},
   "outputs": [
    {
     "name": "stdout",
     "output_type": "stream",
     "text": [
      "{3, 5, 6, 9, 10, 12, 15, 18, 20}\n"
     ]
    }
   ],
   "source": [
    "a = {x for x in range(1, 21) if x % 3 == 0 or x % 5 == 0}\n",
    "print(a)"
   ]
  },
  {
   "cell_type": "markdown",
   "id": "4d64cb1d",
   "metadata": {},
   "source": [
    "# QUESTION-11"
   ]
  },
  {
   "cell_type": "markdown",
   "id": "cda3965f",
   "metadata": {},
   "source": [
    "What is a frozenset()? Give examples."
   ]
  },
  {
   "cell_type": "markdown",
   "id": "70a8a6ec",
   "metadata": {},
   "source": [
    "1.A frozenset() in Python is an immutable version of a set. It behaves similarly to a set but cannot be changed after it is created.\n",
    "\n",
    "2.This means you cannot add or remove elements from a frozenset once it's been initialized.\n",
    "\n",
    "3.However, you can perform set operations like union, intersection, difference, and so on.\n",
    "Example:"
   ]
  },
  {
   "cell_type": "code",
   "execution_count": 12,
   "id": "9ba00a34",
   "metadata": {},
   "outputs": [
    {
     "name": "stdout",
     "output_type": "stream",
     "text": [
      "1\n",
      "2\n",
      "3\n",
      "4\n",
      "Error: 'frozenset' object has no attribute 'add'\n",
      "Union set: frozenset({1, 2, 3, 4, 5, 6})\n"
     ]
    }
   ],
   "source": [
    "# Creating a regular set\n",
    "my_set = {1, 2, 3, 4}\n",
    "\n",
    "# Creating a frozenset from the regular set\n",
    "my_frozenset = frozenset(my_set)\n",
    "\n",
    "# Accessing elements of frozenset\n",
    "for item in my_frozenset:\n",
    "    print(item)\n",
    "\n",
    "# Attempting to add an element to a frozenset (will raise an error)\n",
    "try:\n",
    "    my_frozenset.add(5)\n",
    "except AttributeError as e:\n",
    "    print(\"Error:\", e)\n",
    "\n",
    "# Set operations with frozenset\n",
    "another_set = {3, 4, 5, 6}\n",
    "union_set = my_frozenset | another_set\n",
    "print(\"Union set:\", union_set)"
   ]
  }
 ],
 "metadata": {
  "kernelspec": {
   "display_name": "Python 3 (ipykernel)",
   "language": "python",
   "name": "python3"
  },
  "language_info": {
   "codemirror_mode": {
    "name": "ipython",
    "version": 3
   },
   "file_extension": ".py",
   "mimetype": "text/x-python",
   "name": "python",
   "nbconvert_exporter": "python",
   "pygments_lexer": "ipython3",
   "version": "3.11.5"
  }
 },
 "nbformat": 4,
 "nbformat_minor": 5
}
